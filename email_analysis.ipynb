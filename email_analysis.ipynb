{
 "metadata": {
  "name": ""
 },
 "nbformat": 3,
 "nbformat_minor": 0,
 "worksheets": [
  {
   "cells": [
    {
     "cell_type": "code",
     "collapsed": false,
     "input": [
      "import json\n",
      "import sys\n",
      "import os\n",
      "import numpy as np"
     ],
     "language": "python",
     "metadata": {},
     "outputs": [],
     "prompt_number": 34
    },
    {
     "cell_type": "code",
     "collapsed": false,
     "input": [
      "# Load the data\n",
      "f = open(\"acmemails.json\")\n",
      "json_str = f.read()\n",
      "f.close()\n",
      "\n",
      "emails = json.loads(json_str)"
     ],
     "language": "python",
     "metadata": {},
     "outputs": [],
     "prompt_number": 35
    },
    {
     "cell_type": "code",
     "collapsed": false,
     "input": [
      "# Length related stuff\n",
      "lengths = [len(email['message']) for email in emails]\n",
      "emails_by_length = sorted(emails, lambda e1, e2: len(e2['message']) - len(e1['message']))"
     ],
     "language": "python",
     "metadata": {},
     "outputs": [],
     "prompt_number": 36
    },
    {
     "cell_type": "code",
     "collapsed": false,
     "input": [
      "from gensim import corpora, models, similarities"
     ],
     "language": "python",
     "metadata": {},
     "outputs": [],
     "prompt_number": 45
    },
    {
     "cell_type": "code",
     "collapsed": false,
     "input": [
      "documents = [email['message'] for email in emails]"
     ],
     "language": "python",
     "metadata": {},
     "outputs": [],
     "prompt_number": 40
    },
    {
     "cell_type": "code",
     "collapsed": false,
     "input": [
      "# remove common words and tokenize\n",
      "stoplist = set('for a of the and to in - . if i you be : / * this as on is at are an we'.split())\n",
      "texts = [[word for word in document.lower().split() if word not in stoplist]\n",
      "         for document in documents]\n",
      "\n",
      "# remove words that appear only once\n",
      "all_tokens = sum(texts, [])\n",
      "tokens_once = set(word for word in set(all_tokens) if all_tokens.count(word) == 1)\n",
      "texts = [[word for word in text if word not in tokens_once] for text in texts]"
     ],
     "language": "python",
     "metadata": {},
     "outputs": [],
     "prompt_number": 99
    },
    {
     "cell_type": "code",
     "collapsed": false,
     "input": [
      "dictionary = corpora.Dictionary(texts)\n",
      "corpus = [dictionary.doc2bow(text) for text in texts]"
     ],
     "language": "python",
     "metadata": {},
     "outputs": [],
     "prompt_number": 100
    },
    {
     "cell_type": "code",
     "collapsed": false,
     "input": [
      "tfidf = models.TfidfModel(corpus)\n",
      "corpus_tfidf = tfidf[corpus]"
     ],
     "language": "python",
     "metadata": {},
     "outputs": [],
     "prompt_number": 101
    },
    {
     "cell_type": "code",
     "collapsed": false,
     "input": [
      "lsi = models.LsiModel(corpus_tfidf, id2word=dictionary, num_topics=5)\n",
      "corpus_lsi = lsi[corpus_tfidf]"
     ],
     "language": "python",
     "metadata": {},
     "outputs": [],
     "prompt_number": 102
    },
    {
     "cell_type": "code",
     "collapsed": false,
     "input": [
      "lsi.print_topics(40)"
     ],
     "language": "python",
     "metadata": {},
     "outputs": [
      {
       "metadata": {},
       "output_type": "pyout",
       "prompt_number": 103,
       "text": [
        "['0.098*\"will\" + 0.097*\"your\" + 0.096*\"code@night\" + 0.092*\"up\" + 0.089*\"with\" + 0.089*\"april\" + 0.088*\"have\" + 0.086*\"about\" + 0.085*\"sign\" + 0.085*\"that\"',\n",
        " '0.493*\"edward\" + 0.138*\"study\" + 0.129*\"tech\" + 0.117*\"code@night\" + 0.113*\"there!\" + -0.107*\"classes\" + 0.103*\"bloomberg\" + 0.101*\"pizza\" + 0.099*\"break\" + 0.092*\"interview\"',\n",
        " '0.620*\"edward\" + 0.159*\"chair\" + -0.137*\"code@night\" + 0.093*\"position.\" + -0.092*\"mock\" + 0.090*\"classes\" + 0.084*\"fill\" + -0.080*\"technical\" + -0.076*\"interviews\" + -0.074*\"9pm\"',\n",
        " '-0.328*\"edward\" + 0.277*\"chair\" + -0.138*\"hackathon\" + 0.123*\"interview\" + 0.112*\"interviews\" + 0.102*\"elections\" + 0.102*\"mock\" + -0.095*\"google\" + 0.089*\"cs\" + 0.089*\"officer\"',\n",
        " '0.209*\"interviews\" + 0.197*\"mock\" + 0.186*\"interview\" + 0.170*\"technical\" + -0.156*\"computer\" + -0.150*\"topic\" + 0.124*\"chair\" + -0.111*\"cos\" + 0.108*\"sign\" + 0.105*\"interviewing\"']"
       ]
      }
     ],
     "prompt_number": 103
    },
    {
     "cell_type": "code",
     "collapsed": false,
     "input": [
      "messages = [email['message'] for email in emails if email['sender'] == \"David Bieber <dbieber@PRINCETON.EDU>\" ]\n",
      "words = ' '.join(messages).split()"
     ],
     "language": "python",
     "metadata": {},
     "outputs": [],
     "prompt_number": 104
    },
    {
     "cell_type": "code",
     "collapsed": false,
     "input": [
      "len(words)"
     ],
     "language": "python",
     "metadata": {},
     "outputs": [
      {
       "metadata": {},
       "output_type": "pyout",
       "prompt_number": 105,
       "text": [
        "40108"
       ]
      }
     ],
     "prompt_number": 105
    },
    {
     "cell_type": "code",
     "collapsed": false,
     "input": [
      "emails[9]['sender']"
     ],
     "language": "python",
     "metadata": {},
     "outputs": [
      {
       "metadata": {},
       "output_type": "pyout",
       "prompt_number": 106,
       "text": [
        "u'David Bieber <dbieber@PRINCETON.EDU>'"
       ]
      }
     ],
     "prompt_number": 106
    },
    {
     "cell_type": "code",
     "collapsed": false,
     "input": [
      "lda = models.LdaModel(corpus, id2word=dictionary, num_topics=10, iterations=500)"
     ],
     "language": "python",
     "metadata": {},
     "outputs": [
      {
       "output_type": "stream",
       "stream": "stderr",
       "text": [
        "WARNING:gensim.models.ldamodel:too few updates, training might not converge; consider increasing the number of passes or iterations to improve accuracy\n"
       ]
      }
     ],
     "prompt_number": 107
    },
    {
     "cell_type": "code",
     "collapsed": false,
     "input": [
      "lda.print_topics(10)"
     ],
     "language": "python",
     "metadata": {},
     "outputs": [
      {
       "metadata": {},
       "output_type": "pyout",
       "prompt_number": 108,
       "text": [
        "['0.011*with + 0.010*from + 0.009*will + 0.008*have + 0.007*that + 0.006*your + 0.006*about + 0.005*all + 0.005*it + 0.005*here',\n",
        " '0.016*will + 0.009*about + 0.008*your + 0.007*that + 0.007*have + 0.007*from + 0.007*with + 0.007*by + 0.006*> + 0.006*more',\n",
        " '0.011*will + 0.010*with + 0.009*have + 0.009*up + 0.009*your + 0.008*from + 0.008*about + 0.007*sign + 0.005*princeton + 0.005*can',\n",
        " '0.010*will + 0.008*from + 0.007*have + 0.006*it + 0.006*about + 0.006*your + 0.006*with + 0.006*that + 0.006*princeton + 0.005*,',\n",
        " '0.010*will + 0.008*with + 0.007*chair + 0.007*your + 0.007*have + 0.006*that + 0.006*princeton + 0.005*by + 0.005*want + 0.004*can',\n",
        " '0.010*from + 0.009*will + 0.008*with + 0.007*about + 0.006*princeton + 0.006*can + 0.005*your + 0.005*out + 0.005*by + 0.005*our',\n",
        " '0.013*will + 0.010*your + 0.010*with + 0.008*have + 0.008*or + 0.007*from + 0.007*that + 0.006*about + 0.005*all + 0.005*cs',\n",
        " '0.011*will + 0.008*programmer + 0.008*all + 0.008*up + 0.007*with + 0.007*sign + 0.007*your + 0.006*programming + 0.006*secondary + 0.006*have',\n",
        " '0.008*princeton + 0.008*that + 0.006*have + 0.006*with + 0.006*your + 0.006*our + 0.006*or + 0.005*who + 0.005*from + 0.005*want',\n",
        " '0.015*will + 0.009*with + 0.008*can + 0.008*your + 0.008*that + 0.008*about + 0.007*have + 0.006*by + 0.006*what + 0.005*all']"
       ]
      }
     ],
     "prompt_number": 108
    },
    {
     "cell_type": "code",
     "collapsed": false,
     "input": [],
     "language": "python",
     "metadata": {},
     "outputs": []
    }
   ],
   "metadata": {}
  }
 ]
}